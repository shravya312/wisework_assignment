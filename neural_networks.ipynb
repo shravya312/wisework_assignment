{
 "cells": [
  {
   "cell_type": "code",
   "execution_count": 2,
   "metadata": {},
   "outputs": [
    {
     "name": "stdout",
     "output_type": "stream",
     "text": [
      "Fraud Cases: 0.17%\n"
     ]
    },
    {
     "name": "stderr",
     "output_type": "stream",
     "text": [
      "c:\\Users\\Shravya H Jain\\Desktop\\classification\\wisework_assignment\\.venv\\lib\\site-packages\\sklearn\\base.py:474: FutureWarning: `BaseEstimator._validate_data` is deprecated in 1.6 and will be removed in 1.7. Use `sklearn.utils.validation.validate_data` instead. This function becomes public and is part of the scikit-learn developer API.\n",
      "  warnings.warn(\n"
     ]
    }
   ],
   "source": [
    "import pandas as pd\n",
    "import numpy as np\n",
    "import matplotlib.pyplot as plt\n",
    "import seaborn as sns\n",
    "from sklearn.model_selection import train_test_split\n",
    "from sklearn.preprocessing import StandardScaler\n",
    "from sklearn.metrics import (classification_report, confusion_matrix, \n",
    "                            roc_auc_score, precision_recall_curve, \n",
    "                            average_precision_score)\n",
    "import tensorflow as tf\n",
    "from imblearn.over_sampling import SMOTE\n",
    "from tensorflow.keras.models import Sequential\n",
    "from tensorflow.keras.layers import Dense, Dropout\n",
    "from tensorflow.keras.callbacks import EarlyStopping\n",
    "\n",
    "# Load dataset\n",
    "df = pd.read_csv('credit_card/creditcard.csv')\n",
    "\n",
    "# Check class imbalance\n",
    "print(\"Fraud Cases: {:.2f}%\".format(df['Class'].mean() * 100))\n",
    "\n",
    "# Separate features & target\n",
    "X = df.drop('Class', axis=1)\n",
    "y = df['Class']\n",
    "\n",
    "# Train-test split (stratified)\n",
    "X_train, X_test, y_train, y_test = train_test_split(\n",
    "    X, y, test_size=0.2, random_state=42, stratify=y\n",
    ")\n",
    "\n",
    "# Standardize features\n",
    "scaler = StandardScaler()\n",
    "X_train = scaler.fit_transform(X_train)\n",
    "X_test = scaler.transform(X_test)\n",
    "\n",
    "# Apply SMOTE to balance training data\n",
    "smote = SMOTE(sampling_strategy=0.5, random_state=42)\n",
    "X_train_res, y_train_res = smote.fit_resample(X_train, y_train)"
   ]
  },
  {
   "cell_type": "code",
   "execution_count": 3,
   "metadata": {},
   "outputs": [
    {
     "name": "stderr",
     "output_type": "stream",
     "text": [
      "c:\\Users\\Shravya H Jain\\Desktop\\classification\\wisework_assignment\\.venv\\lib\\site-packages\\keras\\src\\layers\\core\\dense.py:87: UserWarning: Do not pass an `input_shape`/`input_dim` argument to a layer. When using Sequential models, prefer using an `Input(shape)` object as the first layer in the model instead.\n",
      "  super().__init__(activity_regularizer=activity_regularizer, **kwargs)\n"
     ]
    },
    {
     "name": "stdout",
     "output_type": "stream",
     "text": [
      "Epoch 1/50\n",
      "\u001b[1m1067/1067\u001b[0m \u001b[32m━━━━━━━━━━━━━━━━━━━━\u001b[0m\u001b[37m\u001b[0m \u001b[1m4s\u001b[0m 3ms/step - accuracy: 0.9558 - loss: 0.1593 - precision: 0.9055 - recall: 0.8175 - val_accuracy: 0.9596 - val_loss: 0.1050 - val_precision: 1.0000 - val_recall: 0.9596\n",
      "Epoch 2/50\n",
      "\u001b[1m1067/1067\u001b[0m \u001b[32m━━━━━━━━━━━━━━━━━━━━\u001b[0m\u001b[37m\u001b[0m \u001b[1m3s\u001b[0m 3ms/step - accuracy: 0.9878 - loss: 0.0340 - precision: 0.9725 - recall: 0.9541 - val_accuracy: 0.9881 - val_loss: 0.0444 - val_precision: 1.0000 - val_recall: 0.9881\n",
      "Epoch 3/50\n",
      "\u001b[1m1067/1067\u001b[0m \u001b[32m━━━━━━━━━━━━━━━━━━━━\u001b[0m\u001b[37m\u001b[0m \u001b[1m3s\u001b[0m 3ms/step - accuracy: 0.9931 - loss: 0.0217 - precision: 0.9794 - recall: 0.9794 - val_accuracy: 0.9944 - val_loss: 0.0223 - val_precision: 1.0000 - val_recall: 0.9944\n",
      "Epoch 4/50\n",
      "\u001b[1m1067/1067\u001b[0m \u001b[32m━━━━━━━━━━━━━━━━━━━━\u001b[0m\u001b[37m\u001b[0m \u001b[1m3s\u001b[0m 3ms/step - accuracy: 0.9956 - loss: 0.0144 - precision: 0.9842 - recall: 0.9895 - val_accuracy: 0.9973 - val_loss: 0.0147 - val_precision: 1.0000 - val_recall: 0.9973\n",
      "Epoch 5/50\n",
      "\u001b[1m1067/1067\u001b[0m \u001b[32m━━━━━━━━━━━━━━━━━━━━\u001b[0m\u001b[37m\u001b[0m \u001b[1m3s\u001b[0m 3ms/step - accuracy: 0.9968 - loss: 0.0109 - precision: 0.9871 - recall: 0.9937 - val_accuracy: 0.9984 - val_loss: 0.0102 - val_precision: 1.0000 - val_recall: 0.9984\n",
      "Epoch 6/50\n",
      "\u001b[1m1067/1067\u001b[0m \u001b[32m━━━━━━━━━━━━━━━━━━━━\u001b[0m\u001b[37m\u001b[0m \u001b[1m3s\u001b[0m 3ms/step - accuracy: 0.9974 - loss: 0.0093 - precision: 0.9884 - recall: 0.9962 - val_accuracy: 0.9990 - val_loss: 0.0080 - val_precision: 1.0000 - val_recall: 0.9990\n",
      "Epoch 7/50\n",
      "\u001b[1m1067/1067\u001b[0m \u001b[32m━━━━━━━━━━━━━━━━━━━━\u001b[0m\u001b[37m\u001b[0m \u001b[1m3s\u001b[0m 3ms/step - accuracy: 0.9980 - loss: 0.0075 - precision: 0.9909 - recall: 0.9969 - val_accuracy: 0.9998 - val_loss: 0.0071 - val_precision: 1.0000 - val_recall: 0.9998\n",
      "Epoch 8/50\n",
      "\u001b[1m1067/1067\u001b[0m \u001b[32m━━━━━━━━━━━━━━━━━━━━\u001b[0m\u001b[37m\u001b[0m \u001b[1m3s\u001b[0m 3ms/step - accuracy: 0.9983 - loss: 0.0066 - precision: 0.9918 - recall: 0.9980 - val_accuracy: 0.9998 - val_loss: 0.0064 - val_precision: 1.0000 - val_recall: 0.9998\n",
      "Epoch 9/50\n",
      "\u001b[1m1067/1067\u001b[0m \u001b[32m━━━━━━━━━━━━━━━━━━━━\u001b[0m\u001b[37m\u001b[0m \u001b[1m3s\u001b[0m 2ms/step - accuracy: 0.9986 - loss: 0.0056 - precision: 0.9933 - recall: 0.9985 - val_accuracy: 0.9997 - val_loss: 0.0051 - val_precision: 1.0000 - val_recall: 0.9997\n",
      "Epoch 10/50\n",
      "\u001b[1m1067/1067\u001b[0m \u001b[32m━━━━━━━━━━━━━━━━━━━━\u001b[0m\u001b[37m\u001b[0m \u001b[1m3s\u001b[0m 3ms/step - accuracy: 0.9986 - loss: 0.0057 - precision: 0.9931 - recall: 0.9984 - val_accuracy: 1.0000 - val_loss: 0.0029 - val_precision: 1.0000 - val_recall: 1.0000\n",
      "Epoch 11/50\n",
      "\u001b[1m1067/1067\u001b[0m \u001b[32m━━━━━━━━━━━━━━━━━━━━\u001b[0m\u001b[37m\u001b[0m \u001b[1m3s\u001b[0m 3ms/step - accuracy: 0.9989 - loss: 0.0046 - precision: 0.9947 - recall: 0.9987 - val_accuracy: 1.0000 - val_loss: 0.0033 - val_precision: 1.0000 - val_recall: 1.0000\n",
      "Epoch 12/50\n",
      "\u001b[1m1067/1067\u001b[0m \u001b[32m━━━━━━━━━━━━━━━━━━━━\u001b[0m\u001b[37m\u001b[0m \u001b[1m3s\u001b[0m 3ms/step - accuracy: 0.9987 - loss: 0.0049 - precision: 0.9940 - recall: 0.9983 - val_accuracy: 0.9999 - val_loss: 0.0022 - val_precision: 1.0000 - val_recall: 0.9999\n",
      "Epoch 13/50\n",
      "\u001b[1m1067/1067\u001b[0m \u001b[32m━━━━━━━━━━━━━━━━━━━━\u001b[0m\u001b[37m\u001b[0m \u001b[1m3s\u001b[0m 3ms/step - accuracy: 0.9989 - loss: 0.0046 - precision: 0.9948 - recall: 0.9985 - val_accuracy: 1.0000 - val_loss: 0.0023 - val_precision: 1.0000 - val_recall: 1.0000\n",
      "Epoch 14/50\n",
      "\u001b[1m1067/1067\u001b[0m \u001b[32m━━━━━━━━━━━━━━━━━━━━\u001b[0m\u001b[37m\u001b[0m \u001b[1m3s\u001b[0m 3ms/step - accuracy: 0.9988 - loss: 0.0045 - precision: 0.9946 - recall: 0.9984 - val_accuracy: 0.9994 - val_loss: 0.0045 - val_precision: 1.0000 - val_recall: 0.9994\n",
      "Epoch 15/50\n",
      "\u001b[1m1067/1067\u001b[0m \u001b[32m━━━━━━━━━━━━━━━━━━━━\u001b[0m\u001b[37m\u001b[0m \u001b[1m3s\u001b[0m 3ms/step - accuracy: 0.9989 - loss: 0.0043 - precision: 0.9944 - recall: 0.9988 - val_accuracy: 0.9998 - val_loss: 0.0030 - val_precision: 1.0000 - val_recall: 0.9998\n",
      "Epoch 16/50\n",
      "\u001b[1m1067/1067\u001b[0m \u001b[32m━━━━━━━━━━━━━━━━━━━━\u001b[0m\u001b[37m\u001b[0m \u001b[1m3s\u001b[0m 3ms/step - accuracy: 0.9990 - loss: 0.0037 - precision: 0.9954 - recall: 0.9989 - val_accuracy: 1.0000 - val_loss: 0.0015 - val_precision: 1.0000 - val_recall: 1.0000\n",
      "Epoch 17/50\n",
      "\u001b[1m1067/1067\u001b[0m \u001b[32m━━━━━━━━━━━━━━━━━━━━\u001b[0m\u001b[37m\u001b[0m \u001b[1m3s\u001b[0m 3ms/step - accuracy: 0.9990 - loss: 0.0040 - precision: 0.9950 - recall: 0.9993 - val_accuracy: 1.0000 - val_loss: 0.0024 - val_precision: 1.0000 - val_recall: 1.0000\n",
      "Epoch 18/50\n",
      "\u001b[1m1067/1067\u001b[0m \u001b[32m━━━━━━━━━━━━━━━━━━━━\u001b[0m\u001b[37m\u001b[0m \u001b[1m3s\u001b[0m 3ms/step - accuracy: 0.9991 - loss: 0.0038 - precision: 0.9956 - recall: 0.9989 - val_accuracy: 0.9999 - val_loss: 0.0031 - val_precision: 1.0000 - val_recall: 0.9999\n",
      "Epoch 19/50\n",
      "\u001b[1m1067/1067\u001b[0m \u001b[32m━━━━━━━━━━━━━━━━━━━━\u001b[0m\u001b[37m\u001b[0m \u001b[1m3s\u001b[0m 3ms/step - accuracy: 0.9990 - loss: 0.0040 - precision: 0.9952 - recall: 0.9989 - val_accuracy: 0.9996 - val_loss: 0.0027 - val_precision: 1.0000 - val_recall: 0.9996\n",
      "Epoch 20/50\n",
      "\u001b[1m1067/1067\u001b[0m \u001b[32m━━━━━━━━━━━━━━━━━━━━\u001b[0m\u001b[37m\u001b[0m \u001b[1m3s\u001b[0m 3ms/step - accuracy: 0.9990 - loss: 0.0038 - precision: 0.9952 - recall: 0.9990 - val_accuracy: 0.9999 - val_loss: 0.0019 - val_precision: 1.0000 - val_recall: 0.9999\n",
      "Epoch 21/50\n",
      "\u001b[1m1067/1067\u001b[0m \u001b[32m━━━━━━━━━━━━━━━━━━━━\u001b[0m\u001b[37m\u001b[0m \u001b[1m3s\u001b[0m 3ms/step - accuracy: 0.9991 - loss: 0.0035 - precision: 0.9959 - recall: 0.9987 - val_accuracy: 0.9998 - val_loss: 0.0019 - val_precision: 1.0000 - val_recall: 0.9998\n"
     ]
    }
   ],
   "source": [
    "# Define model\n",
    "model = Sequential([\n",
    "    Dense(64, activation='relu', input_shape=(X_train.shape[1],)),\n",
    "    Dropout(0.3),\n",
    "    Dense(32, activation='relu'),\n",
    "    Dropout(0.3),\n",
    "    Dense(1, activation='sigmoid')\n",
    "])\n",
    "\n",
    "# Compile model\n",
    "model.compile(optimizer='adam', loss='binary_crossentropy', \n",
    "              metrics=['accuracy', \n",
    "                       tf.keras.metrics.Precision(name='precision'),\n",
    "                       tf.keras.metrics.Recall(name='recall')])\n",
    "\n",
    "# Early stopping to prevent overfitting\n",
    "early_stop = EarlyStopping(monitor='val_loss', patience=5, restore_best_weights=True)\n",
    "\n",
    "# Train model\n",
    "history = model.fit(\n",
    "    X_train_res, y_train_res,\n",
    "    validation_split=0.2,\n",
    "    epochs=50,\n",
    "    batch_size=256,\n",
    "    callbacks=[early_stop],\n",
    "    verbose=1\n",
    ")"
   ]
  }
 ],
 "metadata": {
  "kernelspec": {
   "display_name": ".venv",
   "language": "python",
   "name": "python3"
  },
  "language_info": {
   "codemirror_mode": {
    "name": "ipython",
    "version": 3
   },
   "file_extension": ".py",
   "mimetype": "text/x-python",
   "name": "python",
   "nbconvert_exporter": "python",
   "pygments_lexer": "ipython3",
   "version": "3.9.13"
  }
 },
 "nbformat": 4,
 "nbformat_minor": 2
}
